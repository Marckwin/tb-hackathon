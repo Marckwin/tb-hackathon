{
 "cells": [
  {
   "cell_type": "code",
   "execution_count": 1,
   "metadata": {
    "collapsed": true
   },
   "outputs": [],
   "source": [
    "import pandas as pd\n",
    "import numpy as np\n",
    "from datetime import datetime\n",
    "import matplotlib.pyplot as plt\n",
    "import seaborn as sns\n",
    "%matplotlib inline"
   ]
  },
  {
   "cell_type": "code",
   "execution_count": 20,
   "outputs": [],
   "source": [
    "data = pd.read_csv('Marketdata4.csv')"
   ],
   "metadata": {
    "collapsed": false,
    "pycharm": {
     "name": "#%%\n"
    }
   }
  },
  {
   "cell_type": "code",
   "execution_count": 22,
   "outputs": [
    {
     "data": {
      "text/plain": "  exchange pair        price    volume   timestamp\n0  igsc-xbt-usd     14.00391  0.000000  1514764800\n1  ixbx-xbt-usd  13880.00000  0.001647  1514764800\n2  iokf-xbt-usd  13897.07000  0.000000  1514764800\n3  gmni-xbt-usd  13775.00000  0.000072  1514764800\n4  bfnx-xbt-usd  13769.00000  0.014755  1514764800",
      "text/html": "<div>\n<style scoped>\n    .dataframe tbody tr th:only-of-type {\n        vertical-align: middle;\n    }\n\n    .dataframe tbody tr th {\n        vertical-align: top;\n    }\n\n    .dataframe thead th {\n        text-align: right;\n    }\n</style>\n<table border=\"1\" class=\"dataframe\">\n  <thead>\n    <tr style=\"text-align: right;\">\n      <th></th>\n      <th>exchange pair</th>\n      <th>price</th>\n      <th>volume</th>\n      <th>timestamp</th>\n    </tr>\n  </thead>\n  <tbody>\n    <tr>\n      <th>0</th>\n      <td>igsc-xbt-usd</td>\n      <td>14.00391</td>\n      <td>0.000000</td>\n      <td>1514764800</td>\n    </tr>\n    <tr>\n      <th>1</th>\n      <td>ixbx-xbt-usd</td>\n      <td>13880.00000</td>\n      <td>0.001647</td>\n      <td>1514764800</td>\n    </tr>\n    <tr>\n      <th>2</th>\n      <td>iokf-xbt-usd</td>\n      <td>13897.07000</td>\n      <td>0.000000</td>\n      <td>1514764800</td>\n    </tr>\n    <tr>\n      <th>3</th>\n      <td>gmni-xbt-usd</td>\n      <td>13775.00000</td>\n      <td>0.000072</td>\n      <td>1514764800</td>\n    </tr>\n    <tr>\n      <th>4</th>\n      <td>bfnx-xbt-usd</td>\n      <td>13769.00000</td>\n      <td>0.014755</td>\n      <td>1514764800</td>\n    </tr>\n  </tbody>\n</table>\n</div>"
     },
     "execution_count": 22,
     "metadata": {},
     "output_type": "execute_result"
    }
   ],
   "source": [
    "data.head()"
   ],
   "metadata": {
    "collapsed": false,
    "pycharm": {
     "name": "#%%\n"
    }
   }
  },
  {
   "cell_type": "code",
   "execution_count": 23,
   "outputs": [
    {
     "data": {
      "text/plain": "     exchange pair        price  volume   timestamp\n28    vxbx-xbt-usd  13974.24566     0.0  1514764803\n107   vxbx-xbt-usd  13974.22644     0.0  1514764808\n164   vxbx-xbt-usd  13973.99280     0.0  1514764813\n220   vxbx-xbt-usd  13973.89685     0.0  1514764818\n256   vxbx-xbt-usd  13973.88351     0.0  1514764823\n292   vxbx-xbt-usd  13973.88351     0.0  1514764828\n337   vxbx-xbt-usd  13973.86888     0.0  1514764833\n383   vxbx-xbt-usd  13973.85438     0.0  1514764838\n438   vxbx-xbt-usd  13973.85398     0.0  1514764844\n483   vxbx-xbt-usd  13973.85398     0.0  1514764849\n596   vxbx-xbt-usd  13973.85398     0.0  1514764854\n659   vxbx-xbt-usd  13973.82509     0.0  1514764859\n728   vxbx-xbt-usd  13973.72902     0.0  1514764864\n826   vxbx-xbt-usd  13973.70336     0.0  1514764870\n907   vxbx-xbt-usd  13973.62936     0.0  1514764876\n958   vxbx-xbt-usd  13973.50227     0.0  1514764881\n1015  vxbx-xbt-usd  13973.49232     0.0  1514764886\n1063  vxbx-xbt-usd  13973.49232     0.0  1514764891\n1108  vxbx-xbt-usd  13973.48084     0.0  1514764896",
      "text/html": "<div>\n<style scoped>\n    .dataframe tbody tr th:only-of-type {\n        vertical-align: middle;\n    }\n\n    .dataframe tbody tr th {\n        vertical-align: top;\n    }\n\n    .dataframe thead th {\n        text-align: right;\n    }\n</style>\n<table border=\"1\" class=\"dataframe\">\n  <thead>\n    <tr style=\"text-align: right;\">\n      <th></th>\n      <th>exchange pair</th>\n      <th>price</th>\n      <th>volume</th>\n      <th>timestamp</th>\n    </tr>\n  </thead>\n  <tbody>\n    <tr>\n      <th>28</th>\n      <td>vxbx-xbt-usd</td>\n      <td>13974.24566</td>\n      <td>0.0</td>\n      <td>1514764803</td>\n    </tr>\n    <tr>\n      <th>107</th>\n      <td>vxbx-xbt-usd</td>\n      <td>13974.22644</td>\n      <td>0.0</td>\n      <td>1514764808</td>\n    </tr>\n    <tr>\n      <th>164</th>\n      <td>vxbx-xbt-usd</td>\n      <td>13973.99280</td>\n      <td>0.0</td>\n      <td>1514764813</td>\n    </tr>\n    <tr>\n      <th>220</th>\n      <td>vxbx-xbt-usd</td>\n      <td>13973.89685</td>\n      <td>0.0</td>\n      <td>1514764818</td>\n    </tr>\n    <tr>\n      <th>256</th>\n      <td>vxbx-xbt-usd</td>\n      <td>13973.88351</td>\n      <td>0.0</td>\n      <td>1514764823</td>\n    </tr>\n    <tr>\n      <th>292</th>\n      <td>vxbx-xbt-usd</td>\n      <td>13973.88351</td>\n      <td>0.0</td>\n      <td>1514764828</td>\n    </tr>\n    <tr>\n      <th>337</th>\n      <td>vxbx-xbt-usd</td>\n      <td>13973.86888</td>\n      <td>0.0</td>\n      <td>1514764833</td>\n    </tr>\n    <tr>\n      <th>383</th>\n      <td>vxbx-xbt-usd</td>\n      <td>13973.85438</td>\n      <td>0.0</td>\n      <td>1514764838</td>\n    </tr>\n    <tr>\n      <th>438</th>\n      <td>vxbx-xbt-usd</td>\n      <td>13973.85398</td>\n      <td>0.0</td>\n      <td>1514764844</td>\n    </tr>\n    <tr>\n      <th>483</th>\n      <td>vxbx-xbt-usd</td>\n      <td>13973.85398</td>\n      <td>0.0</td>\n      <td>1514764849</td>\n    </tr>\n    <tr>\n      <th>596</th>\n      <td>vxbx-xbt-usd</td>\n      <td>13973.85398</td>\n      <td>0.0</td>\n      <td>1514764854</td>\n    </tr>\n    <tr>\n      <th>659</th>\n      <td>vxbx-xbt-usd</td>\n      <td>13973.82509</td>\n      <td>0.0</td>\n      <td>1514764859</td>\n    </tr>\n    <tr>\n      <th>728</th>\n      <td>vxbx-xbt-usd</td>\n      <td>13973.72902</td>\n      <td>0.0</td>\n      <td>1514764864</td>\n    </tr>\n    <tr>\n      <th>826</th>\n      <td>vxbx-xbt-usd</td>\n      <td>13973.70336</td>\n      <td>0.0</td>\n      <td>1514764870</td>\n    </tr>\n    <tr>\n      <th>907</th>\n      <td>vxbx-xbt-usd</td>\n      <td>13973.62936</td>\n      <td>0.0</td>\n      <td>1514764876</td>\n    </tr>\n    <tr>\n      <th>958</th>\n      <td>vxbx-xbt-usd</td>\n      <td>13973.50227</td>\n      <td>0.0</td>\n      <td>1514764881</td>\n    </tr>\n    <tr>\n      <th>1015</th>\n      <td>vxbx-xbt-usd</td>\n      <td>13973.49232</td>\n      <td>0.0</td>\n      <td>1514764886</td>\n    </tr>\n    <tr>\n      <th>1063</th>\n      <td>vxbx-xbt-usd</td>\n      <td>13973.49232</td>\n      <td>0.0</td>\n      <td>1514764891</td>\n    </tr>\n    <tr>\n      <th>1108</th>\n      <td>vxbx-xbt-usd</td>\n      <td>13973.48084</td>\n      <td>0.0</td>\n      <td>1514764896</td>\n    </tr>\n  </tbody>\n</table>\n</div>"
     },
     "execution_count": 23,
     "metadata": {},
     "output_type": "execute_result"
    }
   ],
   "source": [
    "data[data['exchange pair'] == 'vxbx-xbt-usd']\n"
   ],
   "metadata": {
    "collapsed": false,
    "pycharm": {
     "name": "#%%\n"
    }
   }
  },
  {
   "cell_type": "code",
   "execution_count": 24,
   "outputs": [
    {
     "data": {
      "text/plain": "[<matplotlib.lines.Line2D at 0x109a842b0>]"
     },
     "execution_count": 24,
     "metadata": {},
     "output_type": "execute_result"
    },
    {
     "data": {
      "text/plain": "<Figure size 432x288 with 1 Axes>",
      "image/png": "[encoded data removed]"
     },
     "metadata": {
      "needs_background": "light"
     },
     "output_type": "display_data"
    }
   ],
   "source": [
    "plt.plot(data['timestamp'], data['price'])"
   ],
   "metadata": {
    "collapsed": false,
    "pycharm": {
     "name": "#%%\n"
    }
   }
  },
  {
   "cell_type": "code",
   "execution_count": 26,
   "outputs": [
    {
     "data": {
      "text/plain": "exchange pair    False\nprice            False\nvolume           False\ntimestamp        False\ndtype: bool"
     },
     "execution_count": 26,
     "metadata": {},
     "output_type": "execute_result"
    }
   ],
   "source": [
    "data.isnull().any()"
   ],
   "metadata": {
    "collapsed": false,
    "pycharm": {
     "name": "#%%\n"
    }
   }
  },
  {
   "cell_type": "code",
   "execution_count": 27,
   "outputs": [
    {
     "data": {
      "text/plain": "              price       volume     timestamp\ncount   1112.000000  1112.000000  1.112000e+03\nmean   12789.421466     5.078265  1.514765e+09\nstd     3965.754713    30.271402  2.722474e+01\nmin       13.984741     0.000000  1.514765e+09\n25%    13819.350000     0.000000  1.514765e+09\n50%    13870.010000     0.002198  1.514765e+09\n75%    13910.010000     0.310250  1.514765e+09\nmax    15475.020000   574.000000  1.514765e+09",
      "text/html": "<div>\n<style scoped>\n    .dataframe tbody tr th:only-of-type {\n        vertical-align: middle;\n    }\n\n    .dataframe tbody tr th {\n        vertical-align: top;\n    }\n\n    .dataframe thead th {\n        text-align: right;\n    }\n</style>\n<table border=\"1\" class=\"dataframe\">\n  <thead>\n    <tr style=\"text-align: right;\">\n      <th></th>\n      <th>price</th>\n      <th>volume</th>\n      <th>timestamp</th>\n    </tr>\n  </thead>\n  <tbody>\n    <tr>\n      <th>count</th>\n      <td>1112.000000</td>\n      <td>1112.000000</td>\n      <td>1.112000e+03</td>\n    </tr>\n    <tr>\n      <th>mean</th>\n      <td>12789.421466</td>\n      <td>5.078265</td>\n      <td>1.514765e+09</td>\n    </tr>\n    <tr>\n      <th>std</th>\n      <td>3965.754713</td>\n      <td>30.271402</td>\n      <td>2.722474e+01</td>\n    </tr>\n    <tr>\n      <th>min</th>\n      <td>13.984741</td>\n      <td>0.000000</td>\n      <td>1.514765e+09</td>\n    </tr>\n    <tr>\n      <th>25%</th>\n      <td>13819.350000</td>\n      <td>0.000000</td>\n      <td>1.514765e+09</td>\n    </tr>\n    <tr>\n      <th>50%</th>\n      <td>13870.010000</td>\n      <td>0.002198</td>\n      <td>1.514765e+09</td>\n    </tr>\n    <tr>\n      <th>75%</th>\n      <td>13910.010000</td>\n      <td>0.310250</td>\n      <td>1.514765e+09</td>\n    </tr>\n    <tr>\n      <th>max</th>\n      <td>15475.020000</td>\n      <td>574.000000</td>\n      <td>1.514765e+09</td>\n    </tr>\n  </tbody>\n</table>\n</div>"
     },
     "execution_count": 27,
     "metadata": {},
     "output_type": "execute_result"
    }
   ],
   "source": [
    "data.describe()"
   ],
   "metadata": {
    "collapsed": false,
    "pycharm": {
     "name": "#%%\n"
    }
   }
  },
  {
   "cell_type": "code",
   "execution_count": 28,
   "outputs": [
    {
     "name": "stdout",
     "output_type": "stream",
     "text": [
      "<class 'pandas.core.frame.DataFrame'>\n",
      "RangeIndex: 1112 entries, 0 to 1111\n",
      "Data columns (total 4 columns):\n",
      " #   Column         Non-Null Count  Dtype  \n",
      "---  ------         --------------  -----  \n",
      " 0   exchange pair  1112 non-null   object \n",
      " 1   price          1112 non-null   float64\n",
      " 2   volume         1112 non-null   float64\n",
      " 3   timestamp      1112 non-null   int64  \n",
      "dtypes: float64(2), int64(1), object(1)\n",
      "memory usage: 34.9+ KB\n"
     ]
    }
   ],
   "source": [
    "data.info()"
   ],
   "metadata": {
    "collapsed": false,
    "pycharm": {
     "name": "#%%\n"
    }
   }
  },
  {
   "cell_type": "code",
   "execution_count": 29,
   "outputs": [
    {
     "name": "stderr",
     "output_type": "stream",
     "text": [
      "/Users/marckwinbristhole/Library/Python/3.8/lib/python/site-packages/seaborn/distributions.py:2619: FutureWarning: `distplot` is a deprecated function and will be removed in a future version. Please adapt your code to use either `displot` (a figure-level function with similar flexibility) or `histplot` (an axes-level function for histograms).\n",
      "  warnings.warn(msg, FutureWarning)\n"
     ]
    },
    {
     "data": {
      "text/plain": "<AxesSubplot:xlabel='price', ylabel='Density'>"
     },
     "execution_count": 29,
     "metadata": {},
     "output_type": "execute_result"
    },
    {
     "data": {
      "text/plain": "<Figure size 432x288 with 1 Axes>",
      "image/png": "[encoded data removed]"
     },
     "metadata": {
      "needs_background": "light"
     },
     "output_type": "display_data"
    }
   ],
   "source": [
    "sns.distplot(data['price'])"
   ],
   "metadata": {
    "collapsed": false,
    "pycharm": {
     "name": "#%%\n"
    }
   }
  },
  {
   "cell_type": "code",
   "execution_count": 30,
   "outputs": [],
   "source": [
    "timestamp = 1545730073\n",
    "dt_object = datetime.fromtimestamp(timestamp)"
   ],
   "metadata": {
    "collapsed": false,
    "pycharm": {
     "name": "#%%\n"
    }
   }
  },
  {
   "cell_type": "code",
   "execution_count": 31,
   "outputs": [],
   "source": [
    "def timevs (timestamp):\n",
    "    return None if timestamp is None or timestamp == np.nan else datetime.fromtimestamp(timestamp)\n"
   ],
   "metadata": {
    "collapsed": false,
    "pycharm": {
     "name": "#%%\n"
    }
   }
  },
  {
   "cell_type": "code",
   "execution_count": 35,
   "outputs": [
    {
     "data": {
      "text/plain": "0      2017-12-31 19:00:00\n1      2017-12-31 19:00:00\n2      2017-12-31 19:00:00\n3      2017-12-31 19:00:00\n4      2017-12-31 19:00:00\n               ...        \n1107   2017-12-31 19:01:36\n1108   2017-12-31 19:01:36\n1109   2017-12-31 19:01:36\n1110   2017-12-31 19:01:36\n1111   2017-12-31 19:01:36\nName: timestamp, Length: 1112, dtype: datetime64[ns]"
     },
     "execution_count": 35,
     "metadata": {},
     "output_type": "execute_result"
    }
   ],
   "source": [
    "file_name = data['timestamp'].apply(timevs)\n"
   ],
   "metadata": {
    "collapsed": false,
    "pycharm": {
     "name": "#%%\n"
    }
   }
  },
  {
   "cell_type": "code",
   "execution_count": 38,
   "outputs": [
    {
     "ename": "NameError",
     "evalue": "name 'file_name' is not defined",
     "output_type": "error",
     "traceback": [
      "\u001B[0;31m---------------------------------------------------------------------------\u001B[0m",
      "\u001B[0;31mNameError\u001B[0m                                 Traceback (most recent call last)",
      "Input \u001B[0;32mIn [38]\u001B[0m, in \u001B[0;36m<module>\u001B[0;34m\u001B[0m\n\u001B[0;32m----> 1\u001B[0m data[\u001B[38;5;124m'\u001B[39m\u001B[38;5;124mtimestamp\u001B[39m\u001B[38;5;124m'\u001B[39m]\u001B[38;5;241m.\u001B[39mapply(timevs)\u001B[38;5;241m.\u001B[39mto_csv(\u001B[43mfile_name\u001B[49m, sep\u001B[38;5;241m=\u001B[39m\u001B[38;5;124m'\u001B[39m\u001B[38;5;130;01m\\t\u001B[39;00m\u001B[38;5;124m'\u001B[39m)\n",
      "\u001B[0;31mNameError\u001B[0m: name 'file_name' is not defined"
     ]
    }
   ],
   "source": [
    "data['timestamp'].apply(timevs).to_csv(file_name, sep='\\t')"
   ],
   "metadata": {
    "collapsed": false,
    "pycharm": {
     "name": "#%%\n"
    }
   }
  },
  {
   "cell_type": "code",
   "execution_count": 33,
   "outputs": [],
   "source": [
    "cryptocurrencies = ['igsc-xbt-usd', 'ixbx-xbt-usd', 'iokf-xbt-usd', 'gmni-xbt-usd'\n",
    "                    'bfnx-xbt-usd', 'icnb-xbt-usd', 'ibpy-xbt-usd', 'icfb-xbt-usd',\n",
    "                    'base-xbt-usd', 'okfq-xbt-usd', 'vxbx-xbt-usd', 'stmp-xbt-usd',\n",
    "                    'krkn-xbt-usd', 'hitb-xbt-usd', 'okf0-xbt-usd', 'cexi-xbt-usd',\n",
    "                    'okf1-xbt-usd', 'itbt-xbt-usd', 'okcn-xbt-usd', 'lake-xbt-usd',\n",
    "                    'locl-xbt-usd']"
   ],
   "metadata": {
    "collapsed": false,
    "pycharm": {
     "name": "#%%\n"
    }
   }
  },
  {
   "cell_type": "code",
   "execution_count": 34,
   "outputs": [
    {
     "ename": "AttributeError",
     "evalue": "'DataFrame' object has no attribute 'rows'",
     "output_type": "error",
     "traceback": [
      "\u001B[0;31m---------------------------------------------------------------------------\u001B[0m",
      "\u001B[0;31mAttributeError\u001B[0m                            Traceback (most recent call last)",
      "Input \u001B[0;32mIn [34]\u001B[0m, in \u001B[0;36m<module>\u001B[0;34m\u001B[0m\n\u001B[0;32m----> 1\u001B[0m \u001B[38;5;28mprint\u001B[39m(\u001B[43mdata\u001B[49m\u001B[38;5;241;43m.\u001B[39;49m\u001B[43mrows\u001B[49m)\n",
      "File \u001B[0;32m~/Library/Python/3.8/lib/python/site-packages/pandas/core/generic.py:5583\u001B[0m, in \u001B[0;36mNDFrame.__getattr__\u001B[0;34m(self, name)\u001B[0m\n\u001B[1;32m   5576\u001B[0m \u001B[38;5;28;01mif\u001B[39;00m (\n\u001B[1;32m   5577\u001B[0m     name \u001B[38;5;129;01mnot\u001B[39;00m \u001B[38;5;129;01min\u001B[39;00m \u001B[38;5;28mself\u001B[39m\u001B[38;5;241m.\u001B[39m_internal_names_set\n\u001B[1;32m   5578\u001B[0m     \u001B[38;5;129;01mand\u001B[39;00m name \u001B[38;5;129;01mnot\u001B[39;00m \u001B[38;5;129;01min\u001B[39;00m \u001B[38;5;28mself\u001B[39m\u001B[38;5;241m.\u001B[39m_metadata\n\u001B[1;32m   5579\u001B[0m     \u001B[38;5;129;01mand\u001B[39;00m name \u001B[38;5;129;01mnot\u001B[39;00m \u001B[38;5;129;01min\u001B[39;00m \u001B[38;5;28mself\u001B[39m\u001B[38;5;241m.\u001B[39m_accessors\n\u001B[1;32m   5580\u001B[0m     \u001B[38;5;129;01mand\u001B[39;00m \u001B[38;5;28mself\u001B[39m\u001B[38;5;241m.\u001B[39m_info_axis\u001B[38;5;241m.\u001B[39m_can_hold_identifiers_and_holds_name(name)\n\u001B[1;32m   5581\u001B[0m ):\n\u001B[1;32m   5582\u001B[0m     \u001B[38;5;28;01mreturn\u001B[39;00m \u001B[38;5;28mself\u001B[39m[name]\n\u001B[0;32m-> 5583\u001B[0m \u001B[38;5;28;01mreturn\u001B[39;00m \u001B[38;5;28;43mobject\u001B[39;49m\u001B[38;5;241;43m.\u001B[39;49m\u001B[38;5;21;43m__getattribute__\u001B[39;49m\u001B[43m(\u001B[49m\u001B[38;5;28;43mself\u001B[39;49m\u001B[43m,\u001B[49m\u001B[43m \u001B[49m\u001B[43mname\u001B[49m\u001B[43m)\u001B[49m\n",
      "\u001B[0;31mAttributeError\u001B[0m: 'DataFrame' object has no attribute 'rows'"
     ]
    }
   ],
   "source": [
    "print(data.rows)"
   ],
   "metadata": {
    "collapsed": false,
    "pycharm": {
     "name": "#%%\n"
    }
   }
  },
  {
   "cell_type": "code",
   "execution_count": null,
   "outputs": [],
   "source": [
    "for col in data:\n",
    "    print(data[col].unique())"
   ],
   "metadata": {
    "collapsed": false,
    "pycharm": {
     "name": "#%%\n"
    }
   }
  },
  {
   "cell_type": "code",
   "execution_count": 43,
   "outputs": [
    {
     "data": {
      "text/plain": "0       14.00391\n1    13880.00000\n2    13897.07000\n3    13775.00000\n4    13769.00000\nName: price, dtype: float64"
     },
     "execution_count": 43,
     "metadata": {},
     "output_type": "execute_result"
    }
   ],
   "source": [
    "adj_close=data['price']\n",
    "adj_close.head()"
   ],
   "metadata": {
    "collapsed": false,
    "pycharm": {
     "name": "#%%\n"
    }
   }
  },
  {
   "cell_type": "code",
   "execution_count": 44,
   "outputs": [
    {
     "ename": "KeyError",
     "evalue": "'igsc-xbt-usd'",
     "output_type": "error",
     "traceback": [
      "\u001B[0;31m---------------------------------------------------------------------------\u001B[0m",
      "\u001B[0;31mKeyError\u001B[0m                                  Traceback (most recent call last)",
      "Input \u001B[0;32mIn [44]\u001B[0m, in \u001B[0;36m<module>\u001B[0;34m\u001B[0m\n\u001B[1;32m      1\u001B[0m fig, axs \u001B[38;5;241m=\u001B[39mplt\u001B[38;5;241m.\u001B[39msubplots(\u001B[38;5;241m2\u001B[39m,\u001B[38;5;241m2\u001B[39m,figsize\u001B[38;5;241m=\u001B[39m(\u001B[38;5;241m16\u001B[39m,\u001B[38;5;241m8\u001B[39m),gridspec_kw \u001B[38;5;241m=\u001B[39m{\u001B[38;5;124m'\u001B[39m\u001B[38;5;124mhspace\u001B[39m\u001B[38;5;124m'\u001B[39m: \u001B[38;5;241m0.2\u001B[39m, \u001B[38;5;124m'\u001B[39m\u001B[38;5;124mwspace\u001B[39m\u001B[38;5;124m'\u001B[39m: \u001B[38;5;241m0.1\u001B[39m})\n\u001B[0;32m----> 2\u001B[0m axs[\u001B[38;5;241m0\u001B[39m,\u001B[38;5;241m0\u001B[39m]\u001B[38;5;241m.\u001B[39mplot(\u001B[43madj_close\u001B[49m\u001B[43m[\u001B[49m\u001B[38;5;124;43m'\u001B[39;49m\u001B[38;5;124;43migsc-xbt-usd\u001B[39;49m\u001B[38;5;124;43m'\u001B[39;49m\u001B[43m]\u001B[49m)\n\u001B[1;32m      3\u001B[0m axs[\u001B[38;5;241m0\u001B[39m,\u001B[38;5;241m0\u001B[39m]\u001B[38;5;241m.\u001B[39mset_title(\u001B[38;5;124m'\u001B[39m\u001B[38;5;124migsc-xbt-usd\u001B[39m\u001B[38;5;124m'\u001B[39m)\n\u001B[1;32m      4\u001B[0m axs[\u001B[38;5;241m0\u001B[39m,\u001B[38;5;241m1\u001B[39m]\u001B[38;5;241m.\u001B[39mplot(adj_close[\u001B[38;5;124m'\u001B[39m\u001B[38;5;124mixbx-xbt-usd\u001B[39m\u001B[38;5;124m'\u001B[39m])\n",
      "File \u001B[0;32m~/Library/Python/3.8/lib/python/site-packages/pandas/core/series.py:959\u001B[0m, in \u001B[0;36mSeries.__getitem__\u001B[0;34m(self, key)\u001B[0m\n\u001B[1;32m    956\u001B[0m     \u001B[38;5;28;01mreturn\u001B[39;00m \u001B[38;5;28mself\u001B[39m\u001B[38;5;241m.\u001B[39m_values[key]\n\u001B[1;32m    958\u001B[0m \u001B[38;5;28;01melif\u001B[39;00m key_is_scalar:\n\u001B[0;32m--> 959\u001B[0m     \u001B[38;5;28;01mreturn\u001B[39;00m \u001B[38;5;28;43mself\u001B[39;49m\u001B[38;5;241;43m.\u001B[39;49m\u001B[43m_get_value\u001B[49m\u001B[43m(\u001B[49m\u001B[43mkey\u001B[49m\u001B[43m)\u001B[49m\n\u001B[1;32m    961\u001B[0m \u001B[38;5;28;01mif\u001B[39;00m is_hashable(key):\n\u001B[1;32m    962\u001B[0m     \u001B[38;5;66;03m# Otherwise index.get_value will raise InvalidIndexError\u001B[39;00m\n\u001B[1;32m    963\u001B[0m     \u001B[38;5;28;01mtry\u001B[39;00m:\n\u001B[1;32m    964\u001B[0m         \u001B[38;5;66;03m# For labels that don't resolve as scalars like tuples and frozensets\u001B[39;00m\n",
      "File \u001B[0;32m~/Library/Python/3.8/lib/python/site-packages/pandas/core/series.py:1070\u001B[0m, in \u001B[0;36mSeries._get_value\u001B[0;34m(self, label, takeable)\u001B[0m\n\u001B[1;32m   1067\u001B[0m     \u001B[38;5;28;01mreturn\u001B[39;00m \u001B[38;5;28mself\u001B[39m\u001B[38;5;241m.\u001B[39m_values[label]\n\u001B[1;32m   1069\u001B[0m \u001B[38;5;66;03m# Similar to Index.get_value, but we do not fall back to positional\u001B[39;00m\n\u001B[0;32m-> 1070\u001B[0m loc \u001B[38;5;241m=\u001B[39m \u001B[38;5;28;43mself\u001B[39;49m\u001B[38;5;241;43m.\u001B[39;49m\u001B[43mindex\u001B[49m\u001B[38;5;241;43m.\u001B[39;49m\u001B[43mget_loc\u001B[49m\u001B[43m(\u001B[49m\u001B[43mlabel\u001B[49m\u001B[43m)\u001B[49m\n\u001B[1;32m   1071\u001B[0m \u001B[38;5;28;01mreturn\u001B[39;00m \u001B[38;5;28mself\u001B[39m\u001B[38;5;241m.\u001B[39mindex\u001B[38;5;241m.\u001B[39m_get_values_for_loc(\u001B[38;5;28mself\u001B[39m, loc, label)\n",
      "File \u001B[0;32m~/Library/Python/3.8/lib/python/site-packages/pandas/core/indexes/range.py:389\u001B[0m, in \u001B[0;36mRangeIndex.get_loc\u001B[0;34m(self, key, method, tolerance)\u001B[0m\n\u001B[1;32m    387\u001B[0m             \u001B[38;5;28;01mraise\u001B[39;00m \u001B[38;5;167;01mKeyError\u001B[39;00m(key) \u001B[38;5;28;01mfrom\u001B[39;00m \u001B[38;5;21;01merr\u001B[39;00m\n\u001B[1;32m    388\u001B[0m     \u001B[38;5;28mself\u001B[39m\u001B[38;5;241m.\u001B[39m_check_indexing_error(key)\n\u001B[0;32m--> 389\u001B[0m     \u001B[38;5;28;01mraise\u001B[39;00m \u001B[38;5;167;01mKeyError\u001B[39;00m(key)\n\u001B[1;32m    390\u001B[0m \u001B[38;5;28;01mreturn\u001B[39;00m \u001B[38;5;28msuper\u001B[39m()\u001B[38;5;241m.\u001B[39mget_loc(key, method\u001B[38;5;241m=\u001B[39mmethod, tolerance\u001B[38;5;241m=\u001B[39mtolerance)\n",
      "\u001B[0;31mKeyError\u001B[0m: 'igsc-xbt-usd'"
     ]
    },
    {
     "data": {
      "text/plain": "<Figure size 1152x576 with 4 Axes>",
      "image/png": "[encoded data removed]"
     },
     "metadata": {
      "needs_background": "light"
     },
     "output_type": "display_data"
    }
   ],
   "source": [
    "fig, axs =plt.subplots(2,2,figsize=(16,8),gridspec_kw ={'hspace': 0.2, 'wspace': 0.1})\n",
    "axs[0,0].plot(adj_close['igsc-xbt-usd'])\n",
    "axs[0,0].set_title('igsc-xbt-usd')\n",
    "axs[0,1].plot(adj_close['ixbx-xbt-usd'])\n",
    "axs[0,1].set_title('BTC')\n",
    "axs[1,0].plot(adj_close['iokf-xbt-usd'])\n",
    "axs[1,0].set_title('ETH')\n",
    "axs[1,1].plot(adj_close['okfq-xbt-usd'])\n",
    "axs[1,1].set_title('XRP')\n",
    "plt.show()"
   ],
   "metadata": {
    "collapsed": false,
    "pycharm": {
     "name": "#%%\n"
    }
   }
  },
  {
   "cell_type": "code",
   "execution_count": null,
   "outputs": [],
   "source": [],
   "metadata": {
    "collapsed": false,
    "pycharm": {
     "name": "#%%\n"
    }
   }
  }
 ],
 "metadata": {
  "kernelspec": {
   "display_name": "Python 3",
   "language": "python",
   "name": "python3"
  },
  "language_info": {
   "codemirror_mode": {
    "name": "ipython",
    "version": 2
   },
   "file_extension": ".py",
   "mimetype": "text/x-python",
   "name": "python",
   "nbconvert_exporter": "python",
   "pygments_lexer": "ipython2",
   "version": "2.7.6"
  }
 },
 "nbformat": 4,
 "nbformat_minor": 0
}